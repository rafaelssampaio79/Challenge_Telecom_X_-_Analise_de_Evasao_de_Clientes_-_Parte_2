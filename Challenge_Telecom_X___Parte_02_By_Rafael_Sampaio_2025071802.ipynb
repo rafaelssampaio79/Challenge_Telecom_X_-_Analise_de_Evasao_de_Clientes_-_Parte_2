{
  "nbformat": 4,
  "nbformat_minor": 0,
  "metadata": {
    "colab": {
      "provenance": [],
      "authorship_tag": "ABX9TyMKEZop7aZtyfkBYi1IhR5d",
      "include_colab_link": true
    },
    "kernelspec": {
      "name": "python3",
      "display_name": "Python 3"
    },
    "language_info": {
      "name": "python"
    }
  },
  "cells": [
    {
      "cell_type": "markdown",
      "metadata": {
        "id": "view-in-github",
        "colab_type": "text"
      },
      "source": [
        "<a href=\"https://colab.research.google.com/github/rafaelssampaio79/Challenge_Telecom_X_-_Analise_de_Evasao_de_Clientes_-_Parte_2/blob/main/Challenge_Telecom_X___Parte_02_By_Rafael_Sampaio_2025071802.ipynb\" target=\"_parent\"><img src=\"https://colab.research.google.com/assets/colab-badge.svg\" alt=\"Open In Colab\"/></a>"
      ]
    },
    {
      "cell_type": "code",
      "execution_count": null,
      "metadata": {
        "id": "Jt86nXFP5Sgf"
      },
      "outputs": [],
      "source": []
    }
  ]
}